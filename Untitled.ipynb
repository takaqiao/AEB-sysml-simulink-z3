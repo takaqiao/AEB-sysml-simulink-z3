{
 "cells": [
  {
   "cell_type": "code",
   "execution_count": 2,
   "id": "13aafa1d-f4eb-4682-b502-463a3f5ef47b",
   "metadata": {},
   "outputs": [
    {
     "data": {
      "text/plain": [
       "Package Package Example (722e70d4-3505-4cde-aec2-dc54b5b6bf13)\n"
      ]
     },
     "execution_count": 2,
     "metadata": {},
     "output_type": "execute_result"
    }
   ],
   "source": [
    "package 'Package Example' {\n",
    "public import ISQ::TorqueValue;\n",
    "private import ScalarValues::*;\n",
    "part def Automobile;\n",
    "alias Car for Automobile;\n",
    "alias Torque for ISQ::TorqueValue;\n",
    "}"
   ]
  },
  {
   "cell_type": "code",
   "execution_count": null,
   "id": "7c68abc9-309c-4e96-93b7-1473afeaf4bc",
   "metadata": {},
   "outputs": [],
   "source": []
  },
  {
   "cell_type": "code",
   "execution_count": null,
   "id": "dd8efb09-5ca7-4c17-8dbc-a2eed44d2150",
   "metadata": {},
   "outputs": [],
   "source": []
  },
  {
   "cell_type": "code",
   "execution_count": null,
   "id": "0f018e81-9045-4baa-a74c-2b62d0d22376",
   "metadata": {},
   "outputs": [],
   "source": []
  }
 ],
 "metadata": {
  "kernelspec": {
   "display_name": "SysML",
   "language": "sysml",
   "name": "sysml"
  },
  "language_info": {
   "codemirror_mode": "sysml",
   "file_extension": ".sysml",
   "mimetype": "text/x-sysml",
   "name": "SysML",
   "pygments_lexer": "java",
   "version": "1.0.0"
  }
 },
 "nbformat": 4,
 "nbformat_minor": 5
}
