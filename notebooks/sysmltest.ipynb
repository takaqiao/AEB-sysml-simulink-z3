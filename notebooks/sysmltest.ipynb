{
 "cells": [
  {
   "cell_type": "code",
   "execution_count": 1,
   "id": "655069a6-d573-4ee3-9103-3f9be3abf50c",
   "metadata": {},
   "outputs": [
    {
     "name": "stderr",
     "output_type": "stream",
     "text": [
      "ERROR:no viable alternative at input 'import' (1.sysml line : 1 column : 1)\n",
      "ERROR:no viable alternative at character '检' (1.sysml line : 1 column : 3)\n",
      "ERROR:no viable alternative at character '查' (1.sysml line : 1 column : 4)\n",
      "ERROR:no viable alternative at character '核' (1.sysml line : 1 column : 5)\n",
      "ERROR:no viable alternative at character '心' (1.sysml line : 1 column : 6)\n",
      "ERROR:no viable alternative at character '库' (1.sysml line : 1 column : 7)\n",
      "ERROR:no viable alternative at input 'import' (1.sysml line : 3 column : 1)\n",
      "ERROR:no viable alternative at input 'import' (1.sysml line : 4 column : 1)\n",
      "ERROR:no viable alternative at input 'as' (1.sysml line : 4 column : 15)\n",
      "ERROR:no viable alternative at input 'import' (1.sysml line : 5 column : 1)\n",
      "ERROR:no viable alternative at input '.' (1.sysml line : 5 column : 18)\n",
      "ERROR:no viable alternative at input 'as' (1.sysml line : 5 column : 26)\n",
      "ERROR:no viable alternative at input 'print' (1.sysml line : 7 column : 1)\n",
      "ERROR:no viable alternative at input '(' (1.sysml line : 7 column : 6)\n",
      "ERROR:no viable alternative at input '\"JupyterLab version: {jupyterlab.__version__}\"' (1.sysml line : 7 column : 8)\n",
      "ERROR:no viable alternative at input '(' (1.sysml line : 8 column : 6)\n",
      "ERROR:no viable alternative at input '\"Pandas version: {pd.__version__}\"' (1.sysml line : 8 column : 8)\n",
      "ERROR:no viable alternative at input '(' (1.sysml line : 9 column : 1)\n",
      "ERROR:no viable alternative at character '注' (1.sysml line : 9 column : 3)\n",
      "ERROR:no viable alternative at character '意' (1.sysml line : 9 column : 4)\n",
      "ERROR:no viable alternative at character '：' (1.sysml line : 9 column : 5)\n",
      "ERROR:no viable alternative at character '库' (1.sysml line : 9 column : 11)\n",
      "ERROR:no viable alternative at character '的' (1.sysml line : 9 column : 12)\n",
      "ERROR:no viable alternative at character '版' (1.sysml line : 9 column : 13)\n",
      "ERROR:no viable alternative at character '本' (1.sysml line : 9 column : 14)\n",
      "ERROR:no viable alternative at character '检' (1.sysml line : 9 column : 15)\n",
      "ERROR:no viable alternative at character '查' (1.sysml line : 9 column : 16)\n",
      "ERROR:no viable alternative at character '方' (1.sysml line : 9 column : 17)\n",
      "ERROR:no viable alternative at character '式' (1.sysml line : 9 column : 18)\n",
      "ERROR:no viable alternative at character '可' (1.sysml line : 9 column : 19)\n",
      "ERROR:no viable alternative at character '能' (1.sysml line : 9 column : 20)\n",
      "ERROR:no viable alternative at character '不' (1.sysml line : 9 column : 21)\n",
      "ERROR:no viable alternative at character '同' (1.sysml line : 9 column : 22)\n",
      "ERROR:no viable alternative at character '，' (1.sysml line : 9 column : 23)\n",
      "ERROR:no viable alternative at character '此' (1.sysml line : 9 column : 24)\n",
      "ERROR:no viable alternative at character '处' (1.sysml line : 9 column : 25)\n",
      "ERROR:no viable alternative at character '仅' (1.sysml line : 9 column : 26)\n",
      "ERROR:no viable alternative at character '为' (1.sysml line : 9 column : 27)\n",
      "ERROR:no viable alternative at character '示' (1.sysml line : 9 column : 28)\n",
      "ERROR:no viable alternative at character '例' (1.sysml line : 9 column : 29)\n",
      "ERROR:no viable alternative at input '#' (1.sysml line : 10 column : 1)\n",
      "ERROR:no viable alternative at input '(' (1.sysml line : 10 column : 8)\n",
      "ERROR:no viable alternative at input '\"SysML version: {sysml.__version__}\"' (1.sysml line : 10 column : 10)\n"
     ]
    },
    {
     "data": {
      "text/plain": []
     },
     "execution_count": 1,
     "metadata": {},
     "output_type": "execute_result"
    }
   ],
   "source": []
  },
  {
   "cell_type": "code",
   "execution_count": null,
   "id": "061f8cf0-b866-483f-84c6-3ae751dc09d3",
   "metadata": {},
   "outputs": [],
   "source": []
  }
 ],
 "metadata": {
  "kernelspec": {
   "display_name": "SysML",
   "language": "sysml",
   "name": "sysml"
  },
  "language_info": {
   "codemirror_mode": "sysml",
   "file_extension": ".sysml",
   "mimetype": "text/x-sysml",
   "name": "SysML",
   "pygments_lexer": "java",
   "version": "1.0.0"
  }
 },
 "nbformat": 4,
 "nbformat_minor": 5
}
